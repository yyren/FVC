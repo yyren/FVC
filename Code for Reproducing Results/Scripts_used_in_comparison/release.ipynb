{
 "metadata": {
  "language_info": {
   "codemirror_mode": {
    "name": "ipython",
    "version": 3
   },
   "file_extension": ".py",
   "mimetype": "text/x-python",
   "name": "python",
   "nbconvert_exporter": "python",
   "pygments_lexer": "ipython3",
   "version": "3.6.10-final"
  },
  "orig_nbformat": 2,
  "kernelspec": {
   "name": "python361064bitzxcpyf49f62a54f4e401a8dcf1becdd2e7b14",
   "display_name": "Python 3.6.10 64-bit ('zxcpy')",
   "language": "python"
  }
 },
 "nbformat": 4,
 "nbformat_minor": 2,
 "cells": [
  {
   "cell_type": "code",
   "execution_count": null,
   "metadata": {},
   "outputs": [],
   "source": [
    "import matplotlib.pyplot as plt \n",
    "from matplotlib import rcParams\n",
    "import seaborn as sns\n",
    "import pandas as pd \n",
    "import numpy as np \n",
    "from utils import load_from_pickle, save_to_pickle, mutypes, pcodes\n",
    "from config import RESULT_PATH, PLOT_PATH\n",
    "from os import path\n",
    "from utils import useful_metr"
   ]
  },
  {
   "source": [
    "# 1. workflow"
   ],
   "cell_type": "markdown",
   "metadata": {}
  },
  {
   "source": [
    "# 2/3. balanced model testing on different imbalanced dataset"
   ],
   "cell_type": "markdown",
   "metadata": {}
  },
  {
   "cell_type": "code",
   "execution_count": null,
   "metadata": {},
   "outputs": [],
   "source": [
    "from utils import useful_metr\n",
    "extra_metr = ['BACC', 'F1-score', 'Sensitivity(Recall)', 'Specificity', 'Precision', 'AUPRC', 'OFO']"
   ]
  },
  {
   "cell_type": "code",
   "execution_count": null,
   "metadata": {},
   "outputs": [],
   "source": [
    "data2_df_list = []\n",
    "software = 'gatk'\n",
    "for mutype in mutypes:\n",
    "    for pcode in pcodes:\n",
    "        respath = path.join(RESULT_PATH, software, mutype, pcode)\n",
    "        for imbr_test in [1, 50, 100, 200, 0]:\n",
    "            _, metrs_df = load_from_pickle(path.join('metr', 'metrs_0_30x_{:.1f}-{:.1f}.pkl'.format(1,imbr_test)), respath)\n",
    "            marker_dict = {\n",
    "                'seed': 0, \n",
    "                'mutation':mutype, \n",
    "                'patient':pcode, \n",
    "                'ratio train':1,\n",
    "                'ratio test':imbr_test,\n",
    "                'depth': '30X'}\n",
    "            used_metr_df = useful_metr(metrs_df[0], marker_dict, extra_metr)\n",
    "            data2_df_list.append(used_metr_df)\n",
    "data2_df = save_to_pickle(pd.concat(data2_df_list), 'data2_BTrImbTe.pickle', PLOT_PATH)\n",
    "# data2_df\n"
   ]
  },
  {
   "source": [
    "# 4. rebalanced models testing on imbalanced dataset"
   ],
   "cell_type": "markdown",
   "metadata": {}
  },
  {
   "cell_type": "code",
   "execution_count": null,
   "metadata": {},
   "outputs": [],
   "source": [
    "software = 'gatk'\n",
    "data4_df_list = []\n",
    "for mutype in mutypes:\n",
    "    for pcode in pcodes:\n",
    "        respath = path.join(RESULT_PATH, software, mutype, pcode)\n",
    "        for reb_code in ['0.0-0.0', 'balanced', 'smote', 'randomover', 'nearmiss1', '1.0-0.0']:\n",
    "            _, metrs_df = load_from_pickle(path.join('metr', 'metrs_0_30x_{}.pkl'.format(reb_code)), respath)\n",
    "            marker_dict = {\n",
    "                'seed': 0, \n",
    "                'mutation':mutype, \n",
    "                'patient':pcode, \n",
    "                'balance strategy':reb_code,\n",
    "                'ratio test':0,\n",
    "                'depth': '30X'}\n",
    "            used_metr_df = useful_metr(metrs_df[0], marker_dict, ['F1-score', 'AUPRC','OFO'])\n",
    "            data4_df_list.append(used_metr_df)\n",
    "data4_df = save_to_pickle(pd.concat(data3_df_list), 'data4_RebTrImbTe.pickle', PLOT_PATH)\n",
    "data4_df\n"
   ]
  },
  {
   "source": [
    "# 5. ROC and decision points for diafferent filters and different callers"
   ],
   "cell_type": "markdown",
   "metadata": {}
  },
  {
   "cell_type": "code",
   "execution_count": null,
   "metadata": {},
   "outputs": [],
   "source": [
    "from sklearn.metrics import roc_curve, auc\n",
    "caller_alias = {'gatk':'gatk','mutect2':'mutect2','varscan':'varscan2'}\n",
    "filter_alias = {'garfield':'Gar', 'tc':'FNVC', 'vqsr':'VQSR'}\n",
    "YSCORE_PATH = '/data1/TumorGroup/DATA/public_database/FVC/Data/third_check/predict_result'\n",
    "PLOT_PATH = '/export/home/zhouxiaocheng/project/test/ryy/plot'\n",
    "sec = 101\n",
    "mean_fpr = np.linspace(0,1,sec+1)"
   ]
  },
  {
   "cell_type": "code",
   "execution_count": null,
   "metadata": {},
   "outputs": [],
   "source": [
    "depth = '50X' # change it to '30X'\n",
    "data5_df_list = []\n",
    "for caller in ['gatk','mutect2','varscan']:\n",
    "    metr_df = load_from_pickle('data4_{caller}CV.pickle'.format(caller=caller), PLOT_PATH)\n",
    "    metr_df['depth'] = metr_df['depth'].apply(lambda x: x.upper())\n",
    "    for mutation in ['snp', 'indel']:\n",
    "        for pcode in ['HG00'+str(i) for i in [1,2,3,4,6,7]]:\n",
    "            score_fn = '{pcode}_{caller}_predict_results_all_{mutation}_score.txt'.format(pcode=pcode,caller=caller_alias[caller],mutation=mutation)\n",
    "            score_df = pd.read_csv(path.join(YSCORE_PATH,depth,pcode,score_fn), sep='\\t')\n",
    "            for filter, af in filter_alias.items():\n",
    "                col_af = [col for col in score_df.columns if af in col][0]\n",
    "                pre_metr = metr_df.loc[(metr_df['mutation']==mutation)&\n",
    "                                       (metr_df['patient']==pcode)&\n",
    "                                       (metr_df['filter']==filter)&\n",
    "                                       (metr_df['depth']==depth)].iloc[0].to_dict()\n",
    "                fpr, tpr, _ = roc_curve(score_df['y_true'].values, score_df[col_af].values, pos_label=1)\n",
    "                if np.abs(pre_metr['AUC'] - auc(fpr,tpr)) > 1e-5:\n",
    "                    print('BIG', pre_metr['AUC'] - auc(fpr,tpr), filter,'########### WARNING!!! ########## {}'.format(score_fn))\n",
    "                mean_tpr = np.interp(mean_fpr, fpr, tpr)\n",
    "                mean_tpr[0] = 0.\n",
    "                mean_tpr[sec] = 1.\n",
    "                if np.abs(pre_metr['AUC'] - auc(mean_fpr,mean_tpr)) > 1e-5:\n",
    "                    print('SMALL', pre_metr['AUC'] - auc(mean_fpr,mean_tpr), filter,'########### WARNING!!! ########## {}'.format(score_fn))\n",
    "                data5_df_list.append(pd.DataFrame({'fpr':mean_fpr,'tpr':mean_tpr,'caller':caller,'mutation':mutation,'pcode':pcode,'filter':filter}))\n",
    "    #         pcode_pack[pcode] = filter_pack\n",
    "    #     mutation_pack[mutation] = pcode_pack\n",
    "    # caller_pack[caller] = mutation_pack\n",
    "data5_df = pd.concat(data5_df_list)\n",
    "_ = save_to_pickle(data5_df, 'data5_forauc_{}_sparse.pickle'.format(depth), PLOT_PATH)"
   ]
  },
  {
   "source": [
    "# 6. extra filter methods and our models based on the feature from different callers"
   ],
   "cell_type": "markdown",
   "metadata": {}
  },
  {
   "cell_type": "code",
   "execution_count": null,
   "metadata": {},
   "outputs": [],
   "source": [
    "from config import DATABASE_PATH, DATABASE_TWO_PATH\n",
    "from utils import gbeta_, fbeta_\n",
    "def get_metr(df, metrname):\n",
    "    try:\n",
    "        return df[metrname].values\n",
    "    except:\n",
    "        return [None]\n",
    "\n",
    "def load_statistic(caller, mutype, pcode):\n",
    "    if caller == 'varscan':\n",
    "        caller += '2'\n",
    "    else:\n",
    "        depthlist = ['30X', '50X']\n",
    "    new_metrs_df_list = []\n",
    "    for depth in depthlist:\n",
    "        for filter in ['freq', 'garfield', 'hf', 'vqsr']:\n",
    "            filepath = path.join(DATABASE_PATH, depth, pcode, '{}_{}_{}_statistic.txt'.format(caller, filter, mutype))\n",
    "            try:\n",
    "                metr_df = pd.read_csv(filepath, sep='\\t')\n",
    "                MCC = metr_df['MCC'].values[0]\n",
    "                OFO = metr_df['FN'].values[0] / metr_df['TN'].values[0]\n",
    "                gb_dict = metr_df[['TP', 'FP', 'TN', 'FN']].T.to_dict()[0]\n",
    "                G1 = gbeta_(**gb_dict)\n",
    "                F1_calcul = fbeta_(**gb_dict)\n",
    "                ACC = (gb_dict['TP']+gb_dict['TN']) / (gb_dict['TP']+gb_dict['FN']+gb_dict['TN']+gb_dict['FP'])\n",
    "                TPR = gb_dict['TP'] / (gb_dict['TP']+gb_dict['FN'])\n",
    "                TNR = gb_dict['TN'] / (gb_dict['TN']+gb_dict['FP'])\n",
    "                PPV = gb_dict['TP'] / (gb_dict['TP']+gb_dict['FP'])\n",
    "                BACC = 0.5 * (TPR + TNR)\n",
    "                AUC = get_metr(metr_df, 'AUC')[0]\n",
    "                F1_infile = get_metr(metr_df, 'F1')[0]\n",
    "                AUPRC = get_metr(metr_df, 'AUPRC')[0]\n",
    "                if F1_infile != None:\n",
    "                    if np.abs(F1_infile - F1_calcul) > 0.0001:\n",
    "                        print('### Warning!!! inconsistant F1-score! '*3)\n",
    "                new_metr_df = pd.DataFrame({\n",
    "                    'AUC':[AUC], 'MCC':[MCC], 'BACC':[BACC], 'F1-score':[F1_calcul],\n",
    "                    'Sensitivity(Recall)':[TPR], 'Specificity':[TNR], 'ACC':[ACC],\n",
    "                    'Precision':[PPV], 'AUPRC':[AUPRC], 'OFO':[OFO], 'G1-score':[G1],\n",
    "                    'TP':gb_dict['TP'], 'FP':gb_dict['FP'], 'TN':gb_dict['TN'], 'FN':gb_dict['FN'],\n",
    "                    'depth':[depth], 'filter':[filter],})\n",
    "                new_metrs_df_list.append(new_metr_df)\n",
    "            except Exception as e:\n",
    "                print(e)\n",
    "    new_metrs_df = pd.concat(new_metrs_df_list)\n",
    "    new_metrs_df['seed'] = None\n",
    "    new_metrs_df['caller'] = caller\n",
    "    new_metrs_df['mutation'] = mutype\n",
    "    new_metrs_df['patient'] = pcode\n",
    "    new_metrs_df['ratio test'] = 0\n",
    "    return new_metrs_df\n"
   ]
  },
  {
   "cell_type": "code",
   "execution_count": null,
   "metadata": {},
   "outputs": [],
   "source": [
    "extra_metr = ['ACC','BACC', 'F1-score', 'Sensitivity(Recall)', 'Specificity', 'Precision', 'AUPRC', 'OFO','TP','FN','TN','FP']"
   ]
  },
  {
   "cell_type": "code",
   "execution_count": null,
   "metadata": {},
   "outputs": [],
   "source": [
    "for caller in ['gatk', 'mutect2', 'varscan']:\n",
    "    data6_df_list = []\n",
    "    for mutype in mutypes:\n",
    "        for pcode in pcodes:\n",
    "            # load model metrs\n",
    "            respath = path.join(RESULT_PATH, caller, mutype, pcode)\n",
    "            for feat in ['tc']:\n",
    "                _, metrs_df = load_from_pickle(path.join('metr', 'metrs_0_{}.pkl'.format(feat)), respath)\n",
    "                marker_dict = {\n",
    "                    'seed': 0, \n",
    "                    'caller': caller,\n",
    "                    'mutation':mutype, \n",
    "                    'patient':pcode, \n",
    "                    'filter':feat,\n",
    "                    'ratio test':0}\n",
    "                used_metrs_df = [useful_metr(metr_df, marker_dict, extra_metr) for metr_df in metrs_df]\n",
    "                used_metrs_df[0]['depth'] = '30X'\n",
    "                used_metrs_df[1]['depth'] = '50x'\n",
    "                data6_df_list.append(pd.concat(used_metrs_df))\n",
    "            \n",
    "            # load existed filters metrs\n",
    "            data6_df_list.append(load_statistic(caller, mutype, pcode))\n",
    "    data6_df = save_to_pickle(pd.concat(data6_df_list), 'data6_{}CV.pickle'.format(caller), PLOT_PATH)\n"
   ]
  },
  {
   "source": [
    "# prepare for 7/8/9. load y* and additional info from record\n"
   ],
   "cell_type": "markdown",
   "metadata": {}
  },
  {
   "cell_type": "code",
   "execution_count": null,
   "metadata": {},
   "outputs": [],
   "source": [
    "def readRecord(file_path1, file_path2):\n",
    "    data1 = pd.read_csv(file_path1, header=None, sep=' ', low_memory=False)\n",
    "    data2 = pd.read_csv(file_path2, header=None, sep=' ', low_memory=False)\n",
    "    \n",
    "    record_df = pd.concat([data1, data2], ignore_index=True).iloc[:, [0,1,2,4,5]]\n",
    "    record_df.columns = ['y_check', 'chr', 'loc', 'pre_mut', 'post_mut']\n",
    "    return record_df\n",
    "\n",
    "def load_record(pcode, mutype='indel', caller='gatk', depth='30X', feat='tc'):\n",
    "    \n",
    "    if feat == 'tc':\n",
    "        root_path = DATABASE_PATH\n",
    "    elif feat == 'gf':\n",
    "        root_path = DATABASE_TWO_PATH\n",
    "\n",
    "    record_df = readRecord(\n",
    "        path.join(root_path, depth, pcode, '{}_{}_fp_{}_feature.record'.format(pcode, caller, mutype)),\n",
    "        path.join(root_path, depth, pcode, '{}_{}_tp_{}_feature.record'.format(pcode, caller, mutype)))\n",
    "    return record_df"
   ]
  },
  {
   "cell_type": "code",
   "execution_count": null,
   "metadata": {},
   "outputs": [],
   "source": [
    "depthlist = ['30X', '50X']\n",
    "for caller in ['gatk', 'varscan', 'mutect2']:\n",
    "    for mutype in mutypes:\n",
    "        for pcode in pcodes:\n",
    "            respath = path.join(RESULT_PATH, caller, mutype, pcode)\n",
    "            y_df_tc, _ = load_from_pickle(path.join('metr', 'metrs_0_tc.pkl'), respath)\n",
    "            records_df = [load_record(pcode, mutype, caller, depth) for depth in depthlist]\n",
    "\n",
    "            for i, depth in enumerate(depthlist):\n",
    "                y_df_tc[i].columns = ['y_true', 'y_pred_tc', 'y_score_tc']\n",
    "                if (records_df[i]['y_check'].values == y_df_tc[i]['y_true'].values).mean() != 1:\n",
    "                    print('### Error!!! inconsistant y_true in {}-th element in {}/{}/{}'.format(i, pcode, caller, mutype))\n",
    "                record_full = pd.concat((records_df[i], y_df_tc[i][['y_pred_tc', 'y_score_tc']]), axis=1)\n",
    "                record_full.to_csv(path.join(PLOT_PATH, 'record_y/{}/{}/{}_{}_{}.txt'.format(depth, pcode, pcode, caller, mutype)), sep='\\t', index=False)\n"
   ]
  },
  {
   "source": [
    "# 7. group by frequency"
   ],
   "cell_type": "markdown",
   "metadata": {}
  },
  {
   "cell_type": "code",
   "execution_count": null,
   "metadata": {},
   "outputs": [],
   "source": [
    "data7_df_list_less = []\n",
    "data7_df_list_greater = []\n",
    "for caller in ['gatk', 'mutect2', 'varscan2']:\n",
    "    for depth in depthlist:\n",
    "        for pcode in pcodes:\n",
    "            df = pd.concat([pd.read_csv('/data1/TumorGroup/DATA/public_database/FVC/Data/third_check/predict_result/{}/{}/{}_{}_predict_results_{}_all_with_cds.txt'.format(depth,pcode,pcode,caller,consis), sep='\\t', low_memory=False) for consis in ['consistent', 'inconsistent']])\n",
    "            less_df = consis_metr(df.loc[df['Frequency']<0.2], needed_metr)\n",
    "            grea_df = consis_metr(df.loc[df['Frequency']>=0.2], needed_metr)\n",
    "\n",
    "            less_df['caller'] = caller\n",
    "            less_df['depth'] = depth\n",
    "            less_df['pcode'] = pcode \n",
    "            less_df['coding'] = None\n",
    "            grea_df['caller'] = caller\n",
    "            grea_df['depth'] = depth\n",
    "            grea_df['pcode'] = pcode\n",
    "            grea_df['coding'] = None\n",
    "            data7_df_list_less.append(less_df)\n",
    "            data7_df_list_greater.append(grea_df)\n",
    "data7_less_metr_df = save_to_pickle(pd.concat(data7_df_list_less), 'data7_less.pickle', PLOT_PATH)\n",
    "greater_metr_df = save_to_pickle(pd.concat(data7_df_list_greater), 'data7_greater.pickle', PLOT_PATH)"
   ]
  },
  {
   "source": [
    "# 8/9. report inconsistant and consistent result (hard detect and easy detect)"
   ],
   "cell_type": "markdown",
   "metadata": {}
  },
  {
   "cell_type": "code",
   "execution_count": null,
   "metadata": {},
   "outputs": [],
   "source": [
    "from utils import evaluator_block\n",
    "from sklearn.metrics import confusion_matrix"
   ]
  },
  {
   "cell_type": "code",
   "execution_count": null,
   "metadata": {},
   "outputs": [],
   "source": [
    "def consis_metr(df, m=None):\n",
    "    if m is None:\n",
    "        m = ['ACC','Sensitivity(Recall)','FDR','Specificity','Precision','NPV','MCC', 'filter']\n",
    "    df = df.loc[df.y_true != 'y_true']\n",
    "    y_true = df.y_true.values.astype(int)\n",
    "    cols_pred = [col for col in df.columns if 'red' in col]\n",
    "    metr_dict = {}\n",
    "    for col in cols_pred:\n",
    "        metr = evaluator_block(y_true, df[col].values.astype(int), df[col].values.astype(int))\n",
    "        metr['filter'] = col.split('_')[0]\n",
    "        metr_dict[col.split('_')[0]] = metr\n",
    "    return pd.DataFrame(metr_dict).loc[m].T\n"
   ]
  },
  {
   "cell_type": "code",
   "execution_count": null,
   "metadata": {},
   "outputs": [],
   "source": [
    "needed_metr = ['MCC','BACC','ACC','F1-score','G1-score','Specificity','Sensitivity(Recall)','OFO','FDR','Precision','NPV','TP','FP','TN','FN','filter']\n",
    "depthlist = ['30X','50X']"
   ]
  },
  {
   "cell_type": "code",
   "execution_count": null,
   "metadata": {
    "tags": [
     "outputPrepend"
    ]
   },
   "outputs": [],
   "source": [
    "for consis in ['consistent', 'inconsistent']:\n",
    "    data8_df_list = []\n",
    "    for caller in ['gatk', 'mutect2', 'varscan2']:\n",
    "        for depth in depthlist:\n",
    "            for pcode in pcodes:\n",
    "                df = pd.read_csv('/data1/TumorGroup/DATA/public_database/FVC/Data/third_check/predict_result/{}/{}/{}_{}_predict_results_{}_all_with_cds.txt'.format(depth,pcode,pcode,caller,consis), sep='\\t', low_memory=False)\n",
    "                nonc_df = consis_metr(df.loc[df['Coding']==0], needed_metr)\n",
    "                code_df = consis_metr(df.loc[df['Coding']==1], needed_metr)\n",
    "\n",
    "                nonc_df['caller'] = caller\n",
    "                nonc_df['depth'] = depth\n",
    "                nonc_df['pcode'] = pcode \n",
    "                nonc_df['coding'] = 0\n",
    "                code_df['caller'] = caller\n",
    "                code_df['depth'] = depth\n",
    "                code_df['pcode'] = pcode\n",
    "                code_df['coding'] = 1\n",
    "                data8_df_list.append(nonc_df)\n",
    "                data8_df_list.append(code_df)\n",
    "    consis_metr_df = save_to_pickle(pd.concat(df_list), 'data8_{}.pickle'.format(consis), PLOT_PATH)\n",
    "            "
   ]
  },
  {
   "source": [
    "# Supp 1. load importance of feature"
   ],
   "cell_type": "markdown",
   "metadata": {}
  },
  {
   "cell_type": "code",
   "execution_count": null,
   "metadata": {},
   "outputs": [],
   "source": [
    "caller = 'gatk'\n",
    "mutation = 'snp'\n",
    "pcode = 'HG001'\n",
    "clfpath = path.join(RESULT_PATH, caller, mutation, pcode, 'clf')\n",
    "clfkit, _ = load_from_pickle('clfkits_0_tc.pkl',clfpath)"
   ]
  },
  {
   "cell_type": "code",
   "execution_count": null,
   "metadata": {},
   "outputs": [],
   "source": [
    "importance = pd.DataFrame(clfkit[0]['xgbdef'].feature_importances_.reshape(1,-1))\n",
    "importance[['caller','mutation','pcode']] = [[caller, mutation, pcode]]\n"
   ]
  },
  {
   "cell_type": "code",
   "execution_count": null,
   "metadata": {},
   "outputs": [],
   "source": [
    "for caller in ['gatk','mutect2','varscan']:\n",
    "    importance_list = []\n",
    "    for mutation in ['snp','indel']:\n",
    "        for pcode in ['HG001','HG002','HG003','HG004','HG006','HG007']:\n",
    "            clfpath = path.join(RESULT_PATH, caller, mutation, pcode, 'clf')\n",
    "            clfkit, _ = load_from_pickle('clfkits_0_tc.pkl',clfpath)\n",
    "            importance = pd.DataFrame(clfkit[0]['xgbdef'].feature_importances_.reshape(1,-1))\n",
    "            importance[['caller','mutation','pcode']] = [[caller, mutation, pcode]]\n",
    "            importance_list.append(importance)\n",
    "    imp_df = save_to_pickle(pd.concat(importance_list), 'dataS1_imp_{}.pickle'.format(caller), PLOT_PATH)\n"
   ]
  }
 ]
}